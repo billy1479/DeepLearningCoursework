{
  "cells": [
    {
      "cell_type": "markdown",
      "metadata": {
        "id": "6N22Uz-kLiZW"
      },
      "source": [
        "**Main imports**"
      ]
    },
    {
      "cell_type": "code",
      "execution_count": null,
      "metadata": {
        "id": "MK1Jl7nkLnPA"
      },
      "outputs": [],
      "source": [
        "import math\n",
        "import numpy as np\n",
        "import torch\n",
        "import torch.nn as nn\n",
        "import torch.nn.functional as F\n",
        "import torchvision\n",
        "import matplotlib.pyplot as plt\n",
        "from IPython import display as disp\n",
        "from torch.nn.utils import spectral_norm    \n",
        "import os\n",
        "\n",
        "device = torch.device('cuda') if torch.cuda.is_available() else torch.device('cpu')\n",
        "print(device.type)"
      ]
    },
    {
      "cell_type": "markdown",
      "metadata": {
        "id": "run1dh_hM0oO"
      },
      "source": [
        "**Import dataset**"
      ]
    },
    {
      "cell_type": "code",
      "execution_count": null,
      "metadata": {
        "colab": {
          "base_uri": "https://localhost:8080/"
        },
        "id": "bK383zeDM4Ac",
        "outputId": "8a35453f-df4e-4cb6-c791-f88d713097c4"
      },
      "outputs": [],
      "source": [
        "# helper function to make getting another batch of data easier\n",
        "def cycle(iterable):\n",
        "    while True:\n",
        "        for x in iterable:\n",
        "            yield x\n",
        "\n",
        "class_names = ['apple','aquarium_fish','baby','bear','beaver','bed','bee','beetle','bicycle','bottle','bowl','boy','bridge','bus','butterfly','camel','can','castle','caterpillar','cattle','chair','chimpanzee','clock','cloud','cockroach','couch','crab','crocodile','cup','dinosaur','dolphin','elephant','flatfish','forest','fox','girl','hamster','house','kangaroo','computer_keyboard','lamp','lawn_mower','leopard','lion','lizard','lobster','man','maple_tree','motorcycle','mountain','mouse','mushroom','oak_tree','orange','orchid','otter','palm_tree','pear','pickup_truck','pine_tree','plain','plate','poppy','porcupine','possum','rabbit','raccoon','ray','road','rocket','rose','sea','seal','shark','shrew','skunk','skyscraper','snail','snake','spider','squirrel','streetcar','sunflower','sweet_pepper','table','tank','telephone','television','tiger','tractor','train','trout','tulip','turtle','wardrobe','whale','willow_tree','wolf','woman','worm',]\n",
        "\n",
        "train_loader = torch.utils.data.DataLoader(\n",
        "    torchvision.datasets.CIFAR100('data', train=True, download=True, transform=torchvision.transforms.Compose([\n",
        "        torchvision.transforms.ToTensor(),\n",
        "        # torchvision.transforms.Normalize((0.5, 0.5, 0.5), (0.5, 0.5, 0.5))\n",
        "    ])),\n",
        "    batch_size=64, drop_last=True)\n",
        "\n",
        "test_loader = torch.utils.data.DataLoader(\n",
        "    torchvision.datasets.CIFAR100('data', train=False, download=True, transform=torchvision.transforms.Compose([\n",
        "        # torchvision.transforms.RandomHorizontalFlip(),\n",
        "        # torchvision.transforms.RandomCrop(32, 4),\n",
        "        torchvision.transforms.ToTensor(),\n",
        "        torchvision.transforms.Normalize((0.5, 0.5, 0.5), (0.5, 0.5, 0.5)),\n",
        "    ])),\n",
        "    batch_size=64, drop_last=True)\n",
        "\n",
        "train_iterator = iter(cycle(train_loader))\n",
        "test_iterator = iter(cycle(test_loader))\n",
        "\n",
        "print(f'> Size of training dataset {len(train_loader.dataset)}')\n",
        "print(f'> Size of test dataset {len(test_loader.dataset)}')\n",
        "print(\"Number of classes: \", len(class_names))"
      ]
    },
    {
      "cell_type": "markdown",
      "metadata": {
        "id": "q-FdW5HnimG2"
      },
      "source": [
        "**View some of the test dataset**"
      ]
    },
    {
      "cell_type": "code",
      "execution_count": null,
      "metadata": {
        "colab": {
          "base_uri": "https://localhost:8080/",
          "height": 435
        },
        "id": "BtJs-qxHRLXz",
        "outputId": "90986b66-733e-41fc-d01f-ddc442c4423e"
      },
      "outputs": [],
      "source": [
        "# let's view some of the training data\n",
        "plt.rcParams['figure.dpi'] = 100\n",
        "x, t = next(train_iterator)\n",
        "\n",
        "# Ensure the tensor is correctly moved to the GPU\n",
        "x = x.to(device)\n",
        "t = t.to(device)\n",
        "\n",
        "# Plot the images\n",
        "plt.imshow(torchvision.utils.make_grid(x).cpu().numpy().transpose(1, 2, 0))\n",
        "plt.show()"
      ]
    },
    {
      "cell_type": "markdown",
      "metadata": {},
      "source": [
        "### Generator, Discriminator, and Training Loop"
      ]
    },
    {
      "cell_type": "code",
      "execution_count": 35,
      "metadata": {},
      "outputs": [],
      "source": [
        "# hyperparameters\n",
        "batch_size = train_loader.batch_size\n",
        "channels = 3\n",
        "latent_dim = 256\n",
        "image_size = 32\n",
        "\n",
        "num_classes = 100\n",
        "\n",
        "check_interval = 5\n",
        "\n",
        "num_of_epochs = 50000"
      ]
    },
    {
      "cell_type": "markdown",
      "metadata": {},
      "source": [
        "Repo: https://github.com/atapour/dl-pytorch/blob/main/Conditional_GAN_Example/Conditional_GAN_Example.ipynb"
      ]
    },
    {
      "cell_type": "code",
      "execution_count": null,
      "metadata": {},
      "outputs": [],
      "source": [
        "# Residual blocks\n",
        "class ResidualBlock(nn.Module):\n",
        "    def __init__(self, in_channels):\n",
        "        super(ResidualBlock, self).__init__()\n",
        "        self.block = nn.Sequential(\n",
        "            nn.Conv2d(in_channels, in_channels, kernel_size=3, stride=1, padding=1, bias=False),\n",
        "            nn.BatchNorm2d(in_channels),\n",
        "            nn.ReLU(inplace=True),\n",
        "            nn.Conv2d(in_channels, in_channels, kernel_size=3, stride=1, padding=1, bias=False),\n",
        "            nn.BatchNorm2d(in_channels)\n",
        "        )\n",
        "\n",
        "    def forward(self, x):\n",
        "        return self.block(x) + x\n",
        "\n",
        "# Self-attention layer\n",
        "class SelfAttention(nn.Module):\n",
        "    def __init__(self, in_dim):\n",
        "        super(SelfAttention, self).__init__()\n",
        "        self.query_conv = nn.Conv2d(in_dim, in_dim // 8, 1)\n",
        "        self.key_conv = nn.Conv2d(in_dim, in_dim // 8, 1)\n",
        "        self.value_conv = nn.Conv2d(in_dim, in_dim, 1)\n",
        "        self.gamma = nn.Parameter(torch.zeros(1))\n",
        "\n",
        "    def forward(self, x):\n",
        "        batch_size, C, width, height = x.size()\n",
        "        proj_query = self.query_conv(x).view(batch_size, -1, width * height).permute(0, 2, 1)\n",
        "        proj_key = self.key_conv(x).view(batch_size, -1, width * height)\n",
        "        energy = torch.bmm(proj_query, proj_key)\n",
        "        attention = F.softmax(energy, dim=-1)\n",
        "        proj_value = self.value_conv(x).view(batch_size, -1, width * height)\n",
        "        out = torch.bmm(proj_value, attention.permute(0, 2, 1))\n",
        "        out = out.view(batch_size, C, width, height)\n",
        "        out = self.gamma * out + x\n",
        "        return out\n",
        "    \n",
        "def gradient_penalty(critic, real, fake, device):\n",
        "    batch_size, c, h, w = real.size()\n",
        "    epsilon = torch.rand((batch_size, 1, 1, 1)).to(device)\n",
        "    interpolated_images = epsilon * real + (1 - epsilon) * fake\n",
        "    interpolated_images.requires_grad_(True)\n",
        "\n",
        "    mixed_scores = critic(interpolated_images)\n",
        "    gradient = torch.autograd.grad(\n",
        "        inputs=interpolated_images,\n",
        "        outputs=mixed_scores,\n",
        "        grad_outputs=torch.ones_like(mixed_scores),\n",
        "        retain_graph=True,\n",
        "        create_graph=True,\n",
        "    )[0]\n",
        "\n",
        "    gradient = gradient.view(gradient.size(0), -1)\n",
        "    penalty = ((gradient.norm(2, dim=1) - 1) ** 2).mean()\n",
        "\n",
        "    return penalty\n",
        "\n",
        "# Generator network\n",
        "class Generator(nn.Module):\n",
        "    def __init__(self):\n",
        "        super(Generator, self).__init__()\n",
        "        self.main = nn.Sequential(\n",
        "            # Initial layer\n",
        "            nn.ConvTranspose2d(latent_dim, 512, 4, 1, 0, bias=False),\n",
        "            nn.BatchNorm2d(512),\n",
        "            nn.ReLU(True),\n",
        "        )\n",
        "        self.res_blocks = nn.Sequential(\n",
        "            ResidualBlock(512),\n",
        "            ResidualBlock(512)\n",
        "        )\n",
        "        self.upsample = nn.Sequential(\n",
        "            nn.ConvTranspose2d(512, 256, 4, 2, 1, bias=False),\n",
        "            nn.BatchNorm2d(256),\n",
        "            nn.ReLU(True),\n",
        "            SelfAttention(256),  # Adding self-attention\n",
        "            nn.ConvTranspose2d(256, 128, 4, 2, 1, bias=False),\n",
        "            nn.BatchNorm2d(128),\n",
        "            nn.ReLU(True),\n",
        "            nn.ConvTranspose2d(128, 64, 4, 2, 1, bias=False),\n",
        "            nn.BatchNorm2d(64),\n",
        "            nn.ReLU(True),\n",
        "            nn.ConvTranspose2d(64, channels, 3, 1, 1, bias=False),\n",
        "            nn.Tanh()\n",
        "        )\n",
        "\n",
        "\n",
        "    def forward(self, x):\n",
        "        x = self.main(x)\n",
        "        x = self.res_blocks(x)\n",
        "        x = self.upsample(x)\n",
        "        return x\n",
        "\n",
        "# Discriminator Network\n",
        "class Discriminator(nn.Module):\n",
        "    def __init__(self):\n",
        "        super(Discriminator, self).__init__()\n",
        "        self.main = nn.Sequential(\n",
        "            nn.Conv2d(channels, 32, 3, 1, 1, bias=False),\n",
        "            nn.BatchNorm2d(32),\n",
        "            nn.LeakyReLU(0.2, inplace=True),\n",
        "\n",
        "            nn.Conv2d(32, 64, 3, 1, 1, bias=False),\n",
        "            nn.BatchNorm2d(64),\n",
        "            nn.LeakyReLU(0.2, inplace=True),\n",
        "            # 32x32 -> 16x16\n",
        "            nn.Conv2d(64, 128, 4, 2, 1, bias=False),\n",
        "            nn.BatchNorm2d(128),\n",
        "            nn.LeakyReLU(0.2, inplace=True),\n",
        "            \n",
        "            # 16x16 -> 8x8\n",
        "            nn.Conv2d(128, 256, 4, 2, 1, bias=False),\n",
        "            nn.BatchNorm2d(256),\n",
        "            nn.LeakyReLU(0.2, inplace=True),\n",
        "            \n",
        "            # 8x8 -> 4x4\n",
        "            nn.Conv2d(256, 512, 4, 2, 1, bias=False),\n",
        "            nn.BatchNorm2d(512),\n",
        "            nn.LeakyReLU(0.2, inplace=True),\n",
        "            \n",
        "            # 4x4 -> 1x1\n",
        "            nn.Conv2d(512, 1, 4, 1, 0, bias=False),\n",
        "            nn.Sigmoid()\n",
        "        )\n",
        "\n",
        "    def forward(self, x):\n",
        "        return self.main(x).view(-1, 1).squeeze(1)\n",
        "    \n",
        "generator = Generator()\n",
        "discriminator = Discriminator()\n",
        "\n",
        "generator = generator.to(device)\n",
        "discriminator = discriminator.to(device)\n",
        "\n",
        "optimiser_g = torch.optim.Adam(generator.parameters(), lr=0.0002, betas=(0.5, 0.999)) \n",
        "optimiser_d = torch.optim.Adam(discriminator.parameters(), lr=0.0002, betas=(0.5, 0.999))\n",
        "\n",
        "print(f'> Number of generator parameters {len(torch.nn.utils.parameters_to_vector(generator.parameters()))}')\n",
        "print(f'> Number of discriminator parameters {len(torch.nn.utils.parameters_to_vector(discriminator.parameters()))}')\n",
        "\n",
        "criterion = nn.BCELoss()\n",
        "\n",
        "real_label = 1\n",
        "fake_label = 0\n",
        "\n",
        "for epoch in range(num_of_epochs):\n",
        "    gen_loss_arr = np.zeros(0)\n",
        "    dis_loss_arr = np.zeros(0)\n",
        "\n",
        "    for i, (real_images, labels) in enumerate(train_loader):\n",
        "        discriminator.zero_grad()\n",
        "        real_images = real_images.to(device)\n",
        "        # real_labels = torch.full((batch_size,), real_label, device=device, dtype=torch.float)\n",
        "        real_labels = torch.empty((batch_size,), device=device).uniform_(0.9, 1.0)\n",
        "        output = discriminator(real_images)\n",
        "        \n",
        "        d_loss_real = criterion(output, real_labels)\n",
        "        d_loss_real.backward()\n",
        "\n",
        "        noise = torch.randn(batch_size, latent_dim, 1, 1, device=device)\n",
        "        fake_images = generator(noise)\n",
        "        # fake_labels = torch.full((batch_size,), fake_label, device=device, dtype=torch.float)\n",
        "        fake_labels = torch.empty(batch_size, device=device).uniform_(0.0, 0.2)\n",
        "        output = discriminator(fake_images.detach())\n",
        "        d_loss_fake = criterion(output, fake_labels)\n",
        "        d_loss_fake.backward()\n",
        "\n",
        "        d_loss = d_loss_real + d_loss_fake\n",
        "        optimiser_d.step()\n",
        "\n",
        "        generator.zero_grad()\n",
        "        real_labels.fill_(1.0)\n",
        "        output = discriminator(fake_images)\n",
        "        g_loss = criterion(output, real_labels)\n",
        "        g_loss.backward()\n",
        "        optimiser_g.step()\n",
        "\n",
        "        gen_loss_arr = np.append(gen_loss_arr, g_loss.item())\n",
        "        dis_loss_arr = np.append(dis_loss_arr, d_loss.item())\n",
        "        \n",
        "        if i % 100 == 0:\n",
        "                print(f'[{epoch}/{num_of_epochs}][{i}/{len(train_loader)}] '\n",
        "                      f'Loss_D: {d_loss.item():.4f} Loss_G: {g_loss.item():.4f}')\n",
        "\n",
        "    if (epoch + 1) % check_interval == 0:\n",
        "        generator.eval()\n",
        "        with torch.no_grad():\n",
        "            z = torch.randn(batch_size, latent_dim).to(device)\n",
        "            fake_labels = torch.randint(0, num_classes, (batch_size,)).to(device)\n",
        "            z = z.unsqueeze(2).unsqueeze(3)\n",
        "            fake_images = generator(z)\n",
        "            fake_images = (fake_images + 1) / 2\n",
        "            print(f'Epoch [{epoch+1}/{num_of_epochs}], Loss D: {dis_loss_arr.mean():.4f}, Loss G: {gen_loss_arr.mean():.4f}')\n",
        "            plt.figure(figsize=(10, 10))\n",
        "            plt.axis('off')\n",
        "            plt.title(f'Generated Images at Epoch {epoch+1}')\n",
        "            plt.imshow(np.transpose(torchvision.utils.make_grid(fake_images[:batch_size], padding=2, normalize=True).cpu(), (1, 2, 0)))\n",
        "            plt.show()\n",
        "        generator.train()"
      ]
    },
    {
      "cell_type": "markdown",
      "metadata": {
        "id": "ew-Ik2p6pIkW"
      },
      "source": [
        "**Latent interpolations**"
      ]
    },
    {
      "cell_type": "code",
      "execution_count": null,
      "metadata": {
        "colab": {
          "base_uri": "https://localhost:8080/",
          "height": 435
        },
        "id": "Sbb3a--HkGzZ",
        "outputId": "f8d8cbcd-f052-48a7-997e-9b44f42695ab"
      },
      "outputs": [],
      "source": [
        "# now show some interpolations (note you do not have to do linear interpolations as shown here, you can do non-linear or gradient-based interpolation if you wish)\n",
        "col_size = int(np.sqrt(batch_size))\n",
        "\n",
        "z0 = z[0:col_size].repeat(col_size,1) # z for top row\n",
        "z1 = z[batch_size-col_size:].repeat(col_size,1) # z for bottom row\n",
        "\n",
        "t = torch.linspace(0,1,col_size).unsqueeze(1).repeat(1,col_size).view(batch_size,1).to(device)\n",
        "\n",
        "lerp_z = (1-t)*z0 + t*z1 # linearly interpolate between two points in the latent space\n",
        "lerp_g = generator.sample(lerp_z) # sample the model at the resulting interpolated latents\n",
        "\n",
        "plt.rcParams['figure.dpi'] = 100\n",
        "plt.grid(False)\n",
        "plt.imshow(torchvision.utils.make_grid(lerp_g).cpu().numpy().transpose(1, 2, 0), cmap=plt.cm.binary)\n",
        "plt.show()"
      ]
    },
    {
      "cell_type": "markdown",
      "metadata": {
        "id": "r1Vxe_qIbRXS"
      },
      "source": [
        "**FID scores**\n",
        "\n",
        "Evaluate the FID from 10k of your model samples (do not sample more than this) and compare it against the 10k test images. Calculating FID is somewhat involved, so we use a library for it. It can take a few minutes to evaluate. Lower FID scores are better."
      ]
    },
    {
      "cell_type": "code",
      "execution_count": 7,
      "metadata": {
        "id": "4RmRO6U7mLbq"
      },
      "outputs": [],
      "source": [
        "%%capture\n",
        "!pip install clean-fid\n",
        "import os\n",
        "from cleanfid import fid\n",
        "from torchvision.utils import save_image"
      ]
    },
    {
      "cell_type": "code",
      "execution_count": 9,
      "metadata": {
        "id": "canqHlS7bRXT"
      },
      "outputs": [],
      "source": [
        "# define directories\n",
        "real_images_dir = 'real_images'\n",
        "generated_images_dir = 'generated_images'\n",
        "num_samples = 10000 # do not change\n",
        "\n",
        "# create/clean the directories\n",
        "def setup_directory(directory):\n",
        "    if os.path.exists(directory):\n",
        "        !rm -r {directory} # remove any existing (old) data\n",
        "    os.makedirs(directory)\n",
        "\n",
        "# setup_directory(real_images_dir)\n",
        "# setup_directory(generated_images_dir)\n",
        "\n",
        "# generate and save 10k model samples\n",
        "num_generated = 0\n",
        "while num_generated < num_samples:\n",
        "\n",
        "    # sample from your model, you can modify this\n",
        "    z = torch.randn(batch_size, latent_dim).to(device)\n",
        "    samples_batch = N.sample(z).cpu().detach()\n",
        "\n",
        "    for image in samples_batch:\n",
        "        if num_generated >= num_samples:\n",
        "            break\n",
        "        save_image(image, os.path.join(generated_images_dir, f\"gen_img_{num_generated}.png\"))\n",
        "        num_generated += 1\n",
        "\n",
        "# save 10k images from the CIFAR-100 test dataset\n",
        "num_saved_real = 0\n",
        "while num_saved_real < num_samples:\n",
        "    real_samples_batch, _ = next(test_iterator)\n",
        "    for image in real_samples_batch:\n",
        "        if num_saved_real >= num_samples:\n",
        "            break\n",
        "        save_image(image, os.path.join(real_images_dir, f\"real_img_{num_saved_real}.png\"))\n",
        "        num_saved_real += 1"
      ]
    },
    {
      "cell_type": "code",
      "execution_count": null,
      "metadata": {
        "colab": {
          "base_uri": "https://localhost:8080/"
        },
        "id": "0RVOmtzabRXT",
        "outputId": "33d56f24-a300-4a81-e8f7-cfaedc180411"
      },
      "outputs": [],
      "source": [
        "# compute FID\n",
        "score = fid.compute_fid(real_images_dir, generated_images_dir, mode=\"clean\")\n",
        "print(f\"FID score: {score}\")"
      ]
    }
  ],
  "metadata": {
    "accelerator": "GPU",
    "colab": {
      "provenance": []
    },
    "kernelspec": {
      "display_name": "base",
      "language": "python",
      "name": "python3"
    },
    "language_info": {
      "codemirror_mode": {
        "name": "ipython",
        "version": 3
      },
      "file_extension": ".py",
      "mimetype": "text/x-python",
      "name": "python",
      "nbconvert_exporter": "python",
      "pygments_lexer": "ipython3",
      "version": "3.12.7"
    }
  },
  "nbformat": 4,
  "nbformat_minor": 0
}
